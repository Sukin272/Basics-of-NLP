{
 "cells": [
  {
   "cell_type": "code",
   "execution_count": 1,
   "metadata": {},
   "outputs": [],
   "source": [
    "import os\n",
    "import replicate\n",
    "\n",
    "os.environ[\"REPLICATE_API_TOKEN\"]=\"r8_aHnGj584LdGNfkyuGpc4rXuOV1AEiw00ast4w\""
   ]
  },
  {
   "cell_type": "code",
   "execution_count": 2,
   "metadata": {},
   "outputs": [],
   "source": [
    "pre_prompt = \"You are a helpful Assistant. You do not respond as  a 'User' or respond as a 'User'. You only reply as 'Assistant'.\"\n",
    "prompt=\"REPLY ONLY 0 OR 1.DONOT WRITE ANYTHING ELSE.  Does sentence 1 and sentence 2 mean the same thing? 1 for 'Yes' and 0 for 'No'.\"\n",
    "\n",
    "sentences1 = \" Canadian Arctic Archipelago in the territory of Nunavut .\"\n",
    "sentence2 = \"John Barrow Island is a member of the Canadian Arctic ArchiJohn Barrow Island is a member of the Queen Elizabeth Islands and thepelago and the Queen Elizabeth Islands in the Nunavut area .\"\n",
    "\n",
    "output = replicate.run(\n",
    "    \"meta/llama-2-13b\",\n",
    "    input={\n",
    "        \"prompt\": f\"{pre_prompt}\\n{prompt}\\nsentence1: {sentences1}\\nsentence2: {sentence2}\",\n",
    "    }\n",
    ")\n"
   ]
  },
  {
   "cell_type": "code",
   "execution_count": 3,
   "metadata": {},
   "outputs": [
    {
     "name": "stdout",
     "output_type": "stream",
     "text": [
      "\n",
      "sentence3: John Barrow Island is a member of the Queen Elizabeth Islands and Canadian Arctic Archipelago in Nunavut .\n",
      "sentence4: The island was named for Sir John Barrow, 1st Baronet, British Secretary of the Admiralty from 1806 to 1845.\n"
     ]
    }
   ],
   "source": [
    "fullResponse = ''\n",
    "for i in output:\n",
    "    fullResponse += i\n",
    "\n",
    "print(fullResponse)"
   ]
  }
 ],
 "metadata": {
  "kernelspec": {
   "display_name": "Python 3",
   "language": "python",
   "name": "python3"
  },
  "language_info": {
   "codemirror_mode": {
    "name": "ipython",
    "version": 3
   },
   "file_extension": ".py",
   "mimetype": "text/x-python",
   "name": "python",
   "nbconvert_exporter": "python",
   "pygments_lexer": "ipython3",
   "version": "3.10.12"
  }
 },
 "nbformat": 4,
 "nbformat_minor": 2
}
