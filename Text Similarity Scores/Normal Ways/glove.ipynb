{
 "cells": [
  {
   "cell_type": "code",
   "execution_count": 1,
   "metadata": {},
   "outputs": [],
   "source": [
    "import numpy as np\n",
    "from scipy.spatial.distance import cosine\n",
    "\n",
    "# Load pre-trained GloVe word embeddings\n",
    "embeddings_index = {}\n",
    "with open('glove.6B.100d.txt', encoding='utf-8') as f:\n",
    "    for line in f:\n",
    "        values = line.split()\n",
    "        word = values[0]\n",
    "        coefs = np.asarray(values[1:], dtype='float32')\n",
    "        embeddings_index[word] = coefs\n",
    "\n",
    "# Compute sentence embeddings\n"
   ]
  },
  {
   "cell_type": "code",
   "execution_count": 2,
   "metadata": {},
   "outputs": [
    {
     "name": "stdout",
     "output_type": "stream",
     "text": [
      "Cosine similarity: 0.9949622731820448\n"
     ]
    }
   ],
   "source": [
    "\n",
    "sentence1 = 'There are also specific discussions , public profile debates and project discussions .'\n",
    "sentence2 = 'There are also public discussions , profile specific discussions , and project discussions .'\n",
    "\n",
    "words1 = sentence1.split()\n",
    "words2 = sentence2.split()\n",
    "\n",
    "embeddings1 = [embeddings_index.get(word, np.zeros(100)) for word in words1]\n",
    "embeddings2 = [embeddings_index.get(word, np.zeros(100)) for word in words2]\n",
    "\n",
    "sentence_embedding1 = np.mean(embeddings1, axis=0)\n",
    "sentence_embedding2 = np.mean(embeddings2, axis=0)\n",
    "\n",
    "# Compute cosine similarity\n",
    "\n",
    "similarity = 1 - cosine(sentence_embedding1, sentence_embedding2)\n",
    "print('Cosine similarity:', similarity)"
   ]
  }
 ],
 "metadata": {
  "kernelspec": {
   "display_name": "Python 3",
   "language": "python",
   "name": "python3"
  },
  "language_info": {
   "codemirror_mode": {
    "name": "ipython",
    "version": 3
   },
   "file_extension": ".py",
   "mimetype": "text/x-python",
   "name": "python",
   "nbconvert_exporter": "python",
   "pygments_lexer": "ipython3",
   "version": "3.10.12"
  }
 },
 "nbformat": 4,
 "nbformat_minor": 2
}
